{
  "cells": [
    {
      "cell_type": "markdown",
      "metadata": {
        "colab_type": "text",
        "id": "view-in-github"
      },
      "source": [
        "<a href=\"https://colab.research.google.com/github/pddusza/Sussex_Challange_2025/blob/main/Wst%C4%99pna_analiza_danych_na_Challange_Sussex_2025.ipynb\" target=\"_parent\"><img src=\"https://colab.research.google.com/assets/colab-badge.svg\" alt=\"Open In Colab\"/></a>"
      ]
    },
    {
      "cell_type": "markdown",
      "metadata": {
        "id": "dqTbDUp6yMX9"
      },
      "source": [
        "# Dodawanie bazy danych z Google drive\n",
        "***Important: Macie dwie opcje***\n",
        "1. Niniejszy Notebook ipynb musi być otwarty w Colabie pod kontem mhealth.sussex@gmail.com aby import danych z dysku do Challengu zakończył się sukcesem\n",
        "2. Robicie kopię/skrót do danych z waszego prywatnego konta gmail do katalogu danych na kocie mhealth.sussex@gmail.com (**Instrukcje poniżej**)\n",
        "\n",
        "Osobiście sugeruję opcję dwa, wtedy edycją może się równocześnie zająć więcej niż jedna osoba (z waszych przywatnych kont).\n",
        "\n",
        "**Instrukcje do opcji 2:**\n",
        "1. Wchodzicie na dysk mhealth.sussex, udostępnijcie sobie folder z danymi (*\"Baza Danych Sussex...\"*) na swoje prywatne konto gmail.\n",
        "2. W Kategori Udostępnione dla mnie (na swoim prywatnym gmail) odszukujecie folder z danymi następnie -(prawy myszy)-> Porządkuj -> Dodaj skrót,\n",
        "3. Robicie kopię tego właśnie stworzonego przezemnie pliku ipynb z repo / dysku google, na swoje konto prywatne\n",
        "4. potem normalnie już używacie swojego Colaba tak jakbyście mieli baze u siebie, z tym że nie zajmuje wam miejsca na prywatnym dysku\n",
        "5. Powodzenia\n",
        "---\n",
        "Należy uruchomić komórkę poniżej a następnie przeklikać Dalej na nowo-otwartym oknie logowania do mhealth.sussex@gmail.com, po przeklikaniu wydrukować się powinien komunikat:\n",
        "\n",
        "```\n",
        "Mounted at /content/drive\n",
        "```\n",
        "\n",
        "---\n"
      ]
    },
    {
      "cell_type": "code",
      "execution_count": null,
      "metadata": {
        "colab": {
          "base_uri": "https://localhost:8080/"
        },
        "id": "uJ8OGDIQyLHV",
        "outputId": "d989a39b-857f-494c-9ef7-598f8ddca026"
      },
      "outputs": [
        {
          "name": "stdout",
          "output_type": "stream",
          "text": [
            "Mounted at /content/drive\n"
          ]
        }
      ],
      "source": [
        "#Import Dysku Google\n",
        "from google.colab import drive\n",
        "drive.mount('/content/drive')"
      ]
    },
    {
      "cell_type": "markdown",
      "metadata": {
        "id": "MylWNooWy6OW"
      },
      "source": [
        "Jeśli udało się dodać dysk google jako źródło danych, ścieżka odwołania do folderu z nimi będzie następująca:\n",
        "\n",
        "**`'/content/drive/MyDrive/Baza danych Challange Sussex 2025'`**\n",
        "\n",
        "---\n",
        "\n"
      ]
    },
    {
      "cell_type": "code",
      "execution_count": null,
      "metadata": {
        "colab": {
          "base_uri": "https://localhost:8080/",
          "height": 628
        },
        "id": "Bt3mDANoy55D",
        "outputId": "c1607ece-f31b-4c7a-a761-df405b96afb7"
      },
      "outputs": [
        {
          "name": "stdout",
          "output_type": "stream",
          "text": [
            "   Index  Temperature [C]  Speed [m/s]\n",
            "0      0             26.0          3.0\n",
            "1      1             25.9          3.2\n",
            "2      2             26.2          3.0\n",
            "3      3             26.1          4.0\n",
            "4      4             27.6          2.1\n",
            "5      5             29.8          0.9\n",
            "\n",
            "\n"
          ]
        },
        {
          "data": {
            "image/png": "[encoded data removed]",
            "text/plain": [
              "<Figure size 640x480 with 1 Axes>"
            ]
          },
          "metadata": {},
          "output_type": "display_data"
        }
      ],
      "source": [
        "import pandas as pd\n",
        "import matplotlib.pyplot as plt\n",
        "test_df=pd.read_csv('/content/drive/MyDrive/Baza danych Challange Sussex 2025/Test.csv', delimiter=';')\n",
        "print(f'{test_df}\\n\\n')\n",
        "\n",
        "plt.plot(test_df['Index'], test_df['Speed [m/s]'], 'r--', test_df['Index'], test_df['Temperature [C]'], 'c^')\n",
        "plt.legend(['Speed [m/s]', 'Temperature [C]'])\n",
        "plt.grid()\n",
        "plt.title('Test graph')\n",
        "plt.xlabel('Index')\n",
        "plt.ylabel('Variable')\n",
        "plt.show()"
      ]
    },
    {
      "cell_type": "markdown",
      "metadata": {
        "id": "727Bg0a32VqW"
      },
      "source": [
        "# Analiza Danych do Challengu poniżej\n",
        "Powodzenia nam"
      ]
    },
    {
      "cell_type": "code",
      "execution_count": null,
      "metadata": {
        "id": "-Bjoe0_j2dmI"
      },
      "outputs": [],
      "source": [
        "import pandas as pd\n",
        "import numpy as np\n",
        "import matplotlib.pyplot as plt\n",
        "\n",
        "Hand_acc_x_df=np.loadtxt('/content/drive/MyDrive/Baza danych Challange Sussex 2025/train_4_locations/Hand/Acc_x.txt')\n",
        "print(Hand_acc_x_df.shape)"
      ]
    }
  ],
  "metadata": {
    "colab": {
      "authorship_tag": "ABX9TyPSbF335snl/MRtSftatuRt",
      "include_colab_link": true,
      "provenance": []
    },
    "kernelspec": {
      "display_name": "Python 3",
      "name": "python3"
    },
    "language_info": {
      "name": "python"
    }
  },
  "nbformat": 4,
  "nbformat_minor": 0
}
